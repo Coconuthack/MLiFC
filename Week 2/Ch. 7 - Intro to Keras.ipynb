{
 "cells": [
  {
   "cell_type": "markdown",
   "metadata": {},
   "source": [
    "# Ch. 7 - Introduction to Keras\n",
    "In the last week we built a neural network from scratch using nothing but raw python and the matrix library numpy. While it is a great way to understand the inner workings of neural networks, it in not very practical to always implement your own learning algorithms from scratch. In fact, much of the progress in machine learning in recent years was archived because reliable, high performance and easy to use libraries where created. For the rest of the course we will be using [Keras](https://keras.io/). Keras is a high level neural network API that works on top of other deep learning libraries. We will be using Keras in combination with Googles [TensorFlow](https://www.tensorflow.org/), a very popular deep learning library. You can imagine Keras as a front end which you as a developer use while TensorFlow handles all the maths in the background. This setup allows us to harness the high performance of TensorFlow while at the same time iterating quickly with an easy to use API.\n",
    "\n",
    "But as always, before we start, lets set our random seed so that we always obtain the same results."
   ]
  },
  {
   "cell_type": "code",
   "execution_count": 1,
   "metadata": {},
   "outputs": [],
   "source": [
    "# Set seed with numpy\n",
    "import numpy as np\n",
    "np.random.seed(42)"
   ]
  },
  {
   "cell_type": "markdown",
   "metadata": {},
   "source": [
    "And how could we live without pyplot?"
   ]
  },
  {
   "cell_type": "code",
   "execution_count": 2,
   "metadata": {},
   "outputs": [],
   "source": [
    "import matplotlib.pyplot as plt"
   ]
  },
  {
   "cell_type": "markdown",
   "metadata": {},
   "source": [
    "## MNIST with Keras\n",
    "Perhaps the best way to understand how Keras works is by just getting started with it. Last weeks challenge was the MNIST dataset, a collection of hand written digits. In this introduction we are going to use the same dataset to get to know Keras."
   ]
  },
  {
   "cell_type": "code",
   "execution_count": 3,
   "metadata": {},
   "outputs": [
    {
     "name": "stderr",
     "output_type": "stream",
     "text": [
      "Using TensorFlow backend.\n"
     ]
    },
    {
     "name": "stdout",
     "output_type": "stream",
     "text": [
      "Couldn't import dot_parser, loading of dot files will not be possible.\n"
     ]
    }
   ],
   "source": [
    "from keras.models import Sequential"
   ]
  },
  {
   "cell_type": "markdown",
   "metadata": {},
   "source": [
    "Keras offers two basic ways to build models, the [sequential model](https://keras.io/getting-started/sequential-model-guide/), in which layers are just stacked on top of each other and the [functional API](https://keras.io/getting-started/functional-api-guide/) that allows to create more complex structures. For most of the course we will be using the sequential model. As you also can see from the import statement, Keras is using TensorFlow as a back end. Next up we need to import some modules we use to create our network:"
   ]
  },
  {
   "cell_type": "code",
   "execution_count": 4,
   "metadata": {},
   "outputs": [],
   "source": [
    "from keras.layers import Dense"
   ]
  },
  {
   "cell_type": "markdown",
   "metadata": {},
   "source": [
    "We just imported the dense layer module and the activation function module. A dense layer is simply a layer in which every node is fully connected to all nodes from the previous layers. This was the case in all neural networks we have built so far but there are other possibilities, too. We will explore them later. Keras also provides a utility to directly load some common machine learning datasets."
   ]
  },
  {
   "cell_type": "code",
   "execution_count": 5,
   "metadata": {},
   "outputs": [],
   "source": [
    "from keras.datasets import mnist\n",
    "\n",
    "(X_train, y_train), (X_test, y_test) = mnist.load_data()"
   ]
  },
  {
   "cell_type": "markdown",
   "metadata": {},
   "source": [
    "For onehot encoding we will continue to use SciKit Learn"
   ]
  },
  {
   "cell_type": "code",
   "execution_count": 6,
   "metadata": {},
   "outputs": [],
   "source": [
    "from sklearn.preprocessing import OneHotEncoder\n",
    "# Generate one hot encoding\n",
    "\n",
    "# Reshape from array to vector\n",
    "y_train = y_train.reshape(y_train.shape[0],1)\n",
    "# Generate one hot encoding\n",
    "enc = OneHotEncoder()\n",
    "onehot = enc.fit_transform(y_train)\n",
    "# Convert to numpy vector\n",
    "y_train = onehot.toarray()\n",
    "\n",
    "# Reshape from array to vector\n",
    "y_test = y_test.reshape(y_test.shape[0],1)\n",
    "# Generate one hot encoding\n",
    "enc = OneHotEncoder()\n",
    "onehot = enc.fit_transform(y_test)\n",
    "# Convert to numpy vector\n",
    "y_test = onehot.toarray()"
   ]
  },
  {
   "cell_type": "markdown",
   "metadata": {},
   "source": [
    "We also have to reshape the input X, which is a stack of matrices in the raw data into a stack of vectors."
   ]
  },
  {
   "cell_type": "code",
   "execution_count": 7,
   "metadata": {},
   "outputs": [],
   "source": [
    "X_train = X_train.reshape(X_train.shape[0],X_train.shape[1] * X_train.shape[2])\n",
    "X_test = X_test.reshape(X_test.shape[0],X_test.shape[1] * X_test.shape[2])"
   ]
  },
  {
   "cell_type": "markdown",
   "metadata": {},
   "source": [
    "Now it is time to build our model! We initialize the model building process like this:"
   ]
  },
  {
   "cell_type": "code",
   "execution_count": 8,
   "metadata": {},
   "outputs": [],
   "source": [
    "model = Sequential()"
   ]
  },
  {
   "cell_type": "markdown",
   "metadata": {},
   "source": [
    "Now adding layers can be done with a simple ```.add()```"
   ]
  },
  {
   "cell_type": "code",
   "execution_count": 9,
   "metadata": {},
   "outputs": [],
   "source": [
    "# For the first layer we have to specify the input dimensions\n",
    "model.add(Dense(units=320, input_dim=784, activation='tanh'))\n",
    "\n",
    "model.add(Dense(units=160, activation='tanh'))\n",
    "\n",
    "model.add(Dense(units=10, activation='softmax'))\n"
   ]
  },
  {
   "cell_type": "markdown",
   "metadata": {},
   "source": [
    "Now we have to compile the model, turning it into a [static graph TensorFlow can execute](https://stackoverflow.com/questions/46154189/what-is-the-difference-of-static-computational-graphs-in-tensorflow-and-dynamic). In the compile statement we need to specify three things:\n",
    "- The loss function: Here categorical crossentropy\n",
    "- The optimization algorithm: Here vanilla stochastic gradient descent\n",
    "- Metrics we want to track: Here just the accuracy\n",
    "\n",
    "You might have noticed that we have not provided the learning rate. If we just specify what type of optimizer we would like to use, without hyper parameters for that optimizer, Keras will choose default hyper parameters for us. In this case, the learning rate is [set to 0.01](https://keras.io/optimizers/#sgd), we will later see how to set optimizers with different hyper parameters."
   ]
  },
  {
   "cell_type": "code",
   "execution_count": 10,
   "metadata": {},
   "outputs": [],
   "source": [
    "model.compile(loss='categorical_crossentropy',\n",
    "              optimizer='sgd',\n",
    "              metrics=['accuracy'])"
   ]
  },
  {
   "cell_type": "markdown",
   "metadata": {},
   "source": [
    "Now there is only the training left to be done."
   ]
  },
  {
   "cell_type": "code",
   "execution_count": 11,
   "metadata": {},
   "outputs": [
    {
     "name": "stdout",
     "output_type": "stream",
     "text": [
      "Epoch 1/10\n",
      "60000/60000 [==============================] - 7s - loss: 0.5519 - acc: 0.8448     \n",
      "Epoch 2/10\n",
      "60000/60000 [==============================] - 7s - loss: 0.4094 - acc: 0.8807     \n",
      "Epoch 3/10\n",
      "60000/60000 [==============================] - 7s - loss: 0.3906 - acc: 0.8834     \n",
      "Epoch 4/10\n",
      "60000/60000 [==============================] - 7s - loss: 0.3708 - acc: 0.8896     \n",
      "Epoch 5/10\n",
      "60000/60000 [==============================] - 7s - loss: 0.3635 - acc: 0.8884     \n",
      "Epoch 6/10\n",
      "60000/60000 [==============================] - 7s - loss: 0.3398 - acc: 0.8950     \n",
      "Epoch 7/10\n",
      "60000/60000 [==============================] - 7s - loss: 0.3419 - acc: 0.8948     \n",
      "Epoch 8/10\n",
      "60000/60000 [==============================] - 7s - loss: 0.3237 - acc: 0.9021     \n",
      "Epoch 9/10\n",
      "60000/60000 [==============================] - 7s - loss: 0.3079 - acc: 0.9067     \n",
      "Epoch 10/10\n",
      "60000/60000 [==============================] - 7s - loss: 0.2915 - acc: 0.9129     \n"
     ]
    }
   ],
   "source": [
    "# x_train and y_train are Numpy arrays --just like in the Scikit-Learn API.\n",
    "history = model.fit(X_train, y_train, epochs=10, batch_size=32)"
   ]
  },
  {
   "cell_type": "markdown",
   "metadata": {},
   "source": [
    "You will probably have noticed that this runs quite a bit faster than when we implemented our own neural network in numpy. That is because TensorFlow, which handles all the math operations is optimized for exactly these kinds of operations. Another advantage is that TensorFlow can run on a graphics processing unit (GPU). GPUs where originally invented to render computer game graphics, but it turned out that their architecture was ideal for deep learning. Much of deep learnings recent progress is owed to the fact that powerful GPUs and tools to use them for things other than graphics came on the market.\n",
    "\n",
    "We can visualize how our model made progress through the history we obtained from training:"
   ]
  },
  {
   "cell_type": "code",
   "execution_count": 12,
   "metadata": {},
   "outputs": [
    {
     "data": {
      "image/png": "[encoded data removed]",
      "text/plain": [
       "<matplotlib.figure.Figure at 0x1117d3978>"
      ]
     },
     "metadata": {},
     "output_type": "display_data"
    }
   ],
   "source": [
    "# Plot the loss development\n",
    "plt.plot(history.history['loss'])\n",
    "plt.xlabel('Epochs')\n",
    "plt.ylabel('Accuracy')\n",
    "plt.show()"
   ]
  },
  {
   "cell_type": "code",
   "execution_count": 13,
   "metadata": {},
   "outputs": [
    {
     "data": {
      "image/png": "[encoded data removed]",
      "text/plain": [
       "<matplotlib.figure.Figure at 0x11196cc18>"
      ]
     },
     "metadata": {},
     "output_type": "display_data"
    }
   ],
   "source": [
    "# Plot the accuracy development\n",
    "plt.plot(history.history['acc'])\n",
    "plt.xlabel('Epochs')\n",
    "plt.ylabel('Accuracy')\n",
    "plt.show()"
   ]
  },
  {
   "cell_type": "markdown",
   "metadata": {},
   "source": [
    "To see how good our model actually is or weather it overfits the training set, let's evaluate it on the test set:"
   ]
  },
  {
   "cell_type": "code",
   "execution_count": 14,
   "metadata": {},
   "outputs": [
    {
     "name": "stdout",
     "output_type": "stream",
     "text": [
      " 9664/10000 [===========================>..] - ETA: 0s"
     ]
    },
    {
     "data": {
      "text/plain": [
       "[0.28201163395047185, 0.91490000000000005]"
      ]
     },
     "execution_count": 14,
     "metadata": {},
     "output_type": "execute_result"
    }
   ],
   "source": [
    "model.evaluate(x=X_test,y=y_test)"
   ]
  },
  {
   "cell_type": "markdown",
   "metadata": {},
   "source": [
    "|Expexted Result|\n",
    "|---------------|\n",
    "|[0.28201163395047185, 0.91490000000000005]|\n",
    "The first number in this output is the loss over the training set, the second the accuracy. We have achieved 90% very good!"
   ]
  },
  {
   "cell_type": "markdown",
   "metadata": {},
   "source": [
    "## Setting optimizer hyper parameters\n",
    "To set optimizer hyper parameters manually, we have to import the optimizer itself and then add it into our model. Like this:"
   ]
  },
  {
   "cell_type": "code",
   "execution_count": 15,
   "metadata": {},
   "outputs": [],
   "source": [
    "from keras import optimizers"
   ]
  },
  {
   "cell_type": "markdown",
   "metadata": {},
   "source": [
    "We are going to set the learning rate very low here (0.001) to show that the model learns much more slowly now"
   ]
  },
  {
   "cell_type": "code",
   "execution_count": 16,
   "metadata": {},
   "outputs": [],
   "source": [
    "# Same Sequential model\n",
    "model = Sequential()\n",
    "# Add layers\n",
    "model.add(Dense(units=320, input_dim=784, activation='tanh'))\n",
    "model.add(Dense(units=160, activation='tanh'))\n",
    "model.add(Dense(units=10, activation='softmax'))\n",
    "# New compile statement\n",
    "model.compile(loss='categorical_crossentropy',\n",
    "              optimizer=optimizers.SGD(lr=0.001),\n",
    "              metrics=['accuracy'])"
   ]
  },
  {
   "cell_type": "code",
   "execution_count": 17,
   "metadata": {},
   "outputs": [
    {
     "name": "stdout",
     "output_type": "stream",
     "text": [
      "Epoch 1/10\n",
      "60000/60000 [==============================] - 7s - loss: 0.9225 - acc: 0.7395     \n",
      "Epoch 2/10\n",
      "60000/60000 [==============================] - 6s - loss: 0.4611 - acc: 0.8773     \n",
      "Epoch 3/10\n",
      "60000/60000 [==============================] - 6s - loss: 0.3716 - acc: 0.8988     \n",
      "Epoch 4/10\n",
      "60000/60000 [==============================] - 6s - loss: 0.3241 - acc: 0.9088     \n",
      "Epoch 5/10\n",
      "60000/60000 [==============================] - 6s - loss: 0.2944 - acc: 0.9166     \n",
      "Epoch 6/10\n",
      "60000/60000 [==============================] - 7s - loss: 0.2720 - acc: 0.9233     \n",
      "Epoch 7/10\n",
      "60000/60000 [==============================] - 7s - loss: 0.2507 - acc: 0.9293     \n",
      "Epoch 8/10\n",
      "60000/60000 [==============================] - 6s - loss: 0.2378 - acc: 0.9322     \n",
      "Epoch 9/10\n",
      "60000/60000 [==============================] - 6s - loss: 0.2247 - acc: 0.9365     \n",
      "Epoch 10/10\n",
      "60000/60000 [==============================] - 7s - loss: 0.2130 - acc: 0.9394     \n"
     ]
    }
   ],
   "source": [
    "# Training should be much more slow now\n",
    "# x_train and y_train are Numpy arrays --just like in the Scikit-Learn API.\n",
    "history = model.fit(X_train, y_train, epochs=10, batch_size=32)"
   ]
  },
  {
   "cell_type": "code",
   "execution_count": 18,
   "metadata": {},
   "outputs": [
    {
     "data": {
      "image/png": "[encoded data removed]",
      "text/plain": [
       "<matplotlib.figure.Figure at 0x12b517358>"
      ]
     },
     "metadata": {},
     "output_type": "display_data"
    }
   ],
   "source": [
    "plt.plot(history.history['acc'])\n",
    "plt.xlabel('Epochs')\n",
    "plt.ylabel('Accuracy')\n",
    "plt.show()"
   ]
  },
  {
   "cell_type": "code",
   "execution_count": 19,
   "metadata": {},
   "outputs": [
    {
     "name": "stdout",
     "output_type": "stream",
     "text": [
      " 9120/10000 [==========================>...] - ETA: 0s"
     ]
    },
    {
     "data": {
      "text/plain": [
       "[0.22008378154933453, 0.93510000000000004]"
      ]
     },
     "execution_count": 19,
     "metadata": {},
     "output_type": "execute_result"
    }
   ],
   "source": [
    "model.evaluate(x=X_test,y=y_test)"
   ]
  },
  {
   "cell_type": "markdown",
   "metadata": {},
   "source": [
    "|Expected Result|\n",
    "|---------------|\n",
    "|[0.22008378154933453, 0.93510000000000004]|\n",
    "\n",
    "As you can see, the model took a bit longer in the beginning but then achieved a better result: 93.4% accuracy!"
   ]
  },
  {
   "cell_type": "markdown",
   "metadata": {},
   "source": [
    "## Using Tensorboard with Keras\n",
    "[TensorBoard](https://www.tensorflow.org/get_started/summaries_and_tensorboard) is a very cool TensorFlow feature that allows us to watch our model learn, visualize its underlying computational graph and much more. It is very handy when we are training a model and want to see instantly how well it is doing. And since Keras is using TensorFlow as a backend, we can use TensorBoard right from Keras:"
   ]
  },
  {
   "cell_type": "code",
   "execution_count": 20,
   "metadata": {},
   "outputs": [],
   "source": [
    "from keras.callbacks import TensorBoard"
   ]
  },
  {
   "cell_type": "markdown",
   "metadata": {},
   "source": [
    "We can now use tensorboard with our model by adding it ass a [callback](https://keras.io/callbacks/) in the fit statement:"
   ]
  },
  {
   "cell_type": "code",
   "execution_count": 21,
   "metadata": {},
   "outputs": [],
   "source": [
    "# Same Sequential model\n",
    "model = Sequential()\n",
    "# Add layers\n",
    "model.add(Dense(units=320, input_dim=784, activation='tanh'))\n",
    "model.add(Dense(units=160, activation='tanh'))\n",
    "model.add(Dense(units=10, activation='softmax'))\n",
    "# Compile statement from earlier\n",
    "model.compile(loss='categorical_crossentropy',\n",
    "              optimizer=optimizers.SGD(lr=0.001),\n",
    "              metrics=['accuracy'])"
   ]
  },
  {
   "cell_type": "code",
   "execution_count": 22,
   "metadata": {},
   "outputs": [
    {
     "name": "stdout",
     "output_type": "stream",
     "text": [
      "Epoch 1/10\n",
      "60000/60000 [==============================] - 7s - loss: 0.9354 - acc: 0.7312     \n",
      "Epoch 2/10\n",
      "60000/60000 [==============================] - 7s - loss: 0.4617 - acc: 0.8752     \n",
      "Epoch 3/10\n",
      "60000/60000 [==============================] - 7s - loss: 0.3732 - acc: 0.8960     \n",
      "Epoch 4/10\n",
      "60000/60000 [==============================] - 7s - loss: 0.3249 - acc: 0.9085     \n",
      "Epoch 5/10\n",
      "60000/60000 [==============================] - 7s - loss: 0.2936 - acc: 0.9162     \n",
      "Epoch 6/10\n",
      "60000/60000 [==============================] - 7s - loss: 0.2729 - acc: 0.9220     \n",
      "Epoch 7/10\n",
      "60000/60000 [==============================] - 7s - loss: 0.2537 - acc: 0.9275     \n",
      "Epoch 8/10\n",
      "60000/60000 [==============================] - 7s - loss: 0.2377 - acc: 0.9315     \n",
      "Epoch 9/10\n",
      "60000/60000 [==============================] - 7s - loss: 0.2236 - acc: 0.9362     \n",
      "Epoch 10/10\n",
      "60000/60000 [==============================] - 7s - loss: 0.2121 - acc: 0.9385     \n"
     ]
    }
   ],
   "source": [
    "history = model.fit(X_train, y_train, epochs=10, batch_size=32, callbacks=[TensorBoard(log_dir='./logs')])"
   ]
  },
  {
   "cell_type": "markdown",
   "metadata": {},
   "source": [
    "Keras will now save logs in a new folder, called logs in the home folder of this notebook. You can start TensorBoard by opening the terminal and entering:\n",
    "\n",
    "``` tensorboard --logsdir=/path_to_your_logfolder```\n",
    "\n",
    "Mac users can just drag the folder into the terminal instead of typing in the whole file path. You can access TensorBoard by navigating to http://localhost:6006/ in your browser. It will look like this:\n",
    "\n",
    "![TensorBoard](./assets/tensorboard.png)\n",
    "\n",
    "You can see the loss and accuracy plotted, even as your model is still training (hit the refresh button in the corner to get updates). If you are training multiple models you will see their loss and accuracy in the same chart which is very useful when comparing how well different configurations learn."
   ]
  },
  {
   "cell_type": "markdown",
   "metadata": {},
   "source": [
    "## Summary\n",
    "And thus concludes our brief introduction to Keras. You have seen how to set up a simple model, how to set hyper parameters, and how to make Keras work with TensorBoard. To get more used to its sequential model, try implementing a different model for MNIST. Good luck!"
   ]
  }
 ],
 "metadata": {
  "anaconda-cloud": {},
  "kernelspec": {
   "display_name": "Python [default]",
   "language": "python",
   "name": "python3"
  },
  "language_info": {
   "codemirror_mode": {
    "name": "ipython",
    "version": 3
   },
   "file_extension": ".py",
   "mimetype": "text/x-python",
   "name": "python",
   "nbconvert_exporter": "python",
   "pygments_lexer": "ipython3",
   "version": "3.5.4"
  }
 },
 "nbformat": 4,
 "nbformat_minor": 2
}
