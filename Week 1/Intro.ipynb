{
 "cells": [
  {
   "cell_type": "markdown",
   "metadata": {
    "nbpresent": {
     "id": "926d3fea-b4b2-431e-a288-dd889e4ee55e"
    }
   },
   "source": [
    "# Introduction to Machine Learning\n",
    "## What is Machine Learning\n",
    "Let's start with a definition:\n",
    "> Machine learning is the subfield of computer science that gives computers the ability to learn without being explicitly programmed (Arthur Samuel, 1959)\n",
    "\n",
    "So what does that mean? Today, most computer programs are handcrafted by humans. Software engineers carefully craft every rule that governs how Software behaves and then translate it into computer code. Take a look at your screen right now. Everything that you see appears there because of some rule that an engineer somewhere crafted. This approach has gotten us quite far. But there are limits to it. Sometimes, there might just be too many rules necessary for humans to write. Sometimes, we might not be able to think of rules since they are too complex for even the smartest developers to come up with. As a brief exercise, take a minute to come up with a list of rules that describe all dogs but clearly distinguish dogs from all other animals. \n",
    "\n",
    "![Describe this dog](./assets/andrew-branch-182880.jpg 'Photo by Andrew Branch on Unsplash')\n",
    "\n",
    "Fur? Well, cats have fur, too. And what about a dog wearing a jacket? That is still a dog, just in a jacket. Researchers have spent years trying to craft these rules with little success. Humans don't seem to be able to perfectly tell why something is a dog, but they _know it when they see it_. Humans seem to detect specific, hard to describe, patters which in aggregate let them classify an animal as a dog. Machine Learning attempts to do the same. Instead of handcrafting rules, we let a computer develop its own rules through pattern detection. There are different ways this can work:\n",
    "\n",
    "## ML subfields\n",
    "### Supervised learning\n",
    "\n",
    "TODO: Image\n",
    "\n",
    "Let's go back to our dog classifier. There are in fact many such classifiers in use today. If you use google images for example and search for 'dog' it will use an image classifier to show you pictures of dogs. These classifiers are trained under a paradigm known as supervised learning. In supervised learning, we have a large number of training examples, such as images of animals, and labels which describe what the expected outcome for those training examples is. For example the image above would come with the label 'dog' while an image of a cat would come with a label 'not a dog'. If we have many of these labeled training examples, we can train a classifier on detecting the subtle statistical patterns that differentiate dogs from all other animals.\n",
    "\n",
    "### Unsupervised learning\n",
    "\n",
    "TODO: Image\n",
    "\n",
    "Supervised learning has made great advances of the last few years, and most of this course will focus on working with labeled examples. However, sometimes we do not have labels. Imagine a company with many customers for its products. These customers can probably be grouped into different market segments, but we do not even know which different market segments there are. We also can not ask customers which market segment they are because they probably do not know. Which market segment of the shampoo market are you? Do you even know how shampoo firms segment their customers? So we would like an algorithm that looks at a lot of data of customers and groups them into segments. This is an example of unsupervised learning. This area of machine learning is far less developed than supervised learning but holds great potential.\n",
    "\n",
    "### Reinforcement learning\n",
    "\n",
    "![Reinforcement Learning](./assets/reinforcement_learning.png 'Source: Stanford CS234')\n",
    "\n",
    "In reinforcement learning, we train agents which take actions in an environment, such a self driving car on the road. While we do not have labels, that is we can not tell what the 'correct' action is in any situation, we can assign rewards or punishments. For example we could reward keeping a proper distance to the car in front. A driving instructor does not tell the student to 'push the break half way through while moving your steering wheel two degrees to the right', but rather tells the student whether she is doing well or not while the student figures out the exact amount of breaking to use. Reinforcement learning has also made some remarkable progress in the past couple of years and is considered to be a promising avenue towards general artificial intelligence, computers that are as smart as humans, by many researchers. \n",
    "\n",
    "### Generative models\n",
    "\n",
    "Generative models generate content, such as images, music, drawings, architecture, etc. They have seen a lot of progress through the introduction of GANs, Generative Adversarial Networks, in which one neural net tries to generate images that fool another neural net which aims to classify images. So if you for example want to generate an image of a dog, you train a classifier that recognizes dogs, like above, and let another model generate images until the classifier recognizes the image as a dog.\n",
    "\n",
    "## Summary\n",
    "In this text we saw what machine learning is and discussed some of its most important subfields. In the next chapter we'll build our own neural network from scratch."
   ]
  }
 ],
 "metadata": {
  "anaconda-cloud": {},
  "kernelspec": {
   "display_name": "Python [default]",
   "language": "python",
   "name": "python3"
  },
  "language_info": {
   "codemirror_mode": {
    "name": "ipython",
    "version": 3
   },
   "file_extension": ".py",
   "mimetype": "text/x-python",
   "name": "python",
   "nbconvert_exporter": "python",
   "pygments_lexer": "ipython3",
   "version": "3.5.4"
  },
  "nbpresent": {
   "slides": {},
   "themes": {}
  }
 },
 "nbformat": 4,
 "nbformat_minor": 2
}
