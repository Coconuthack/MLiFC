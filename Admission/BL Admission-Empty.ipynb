{
 "cells": [
  {
   "cell_type": "markdown",
   "metadata": {},
   "source": [
    "# Bletchley Python Test\n",
    "\n",
    "Congratulations. You have been selected for the second round in the Bletchley application process. In this test, we ask you to complete two Python assignments. One asks for your general knowledge of the Python syntax. The other one asks for a bit of knowledge on numpy and vectors. Remember: **Using google is okay!**. We don't expect you to know everything by heart, we just want to make sure you can solve a problem _somehow_.\n",
    "\n",
    "## Where to run the code\n",
    "\n",
    "You can run all code that is required for this assignment on either [Microsoft Azure Notebooks](https://notebooks.azure.com/) or by installing Python and all required libraries yourself from [Anaconda](https://anaconda.org/)."
   ]
  },
  {
   "cell_type": "markdown",
   "metadata": {},
   "source": [
    "## How to submit this assignment\n",
    "\n",
    "You can submit your answer to this assignment by emailing the answers to jannes [at] tscociety.io"
   ]
  },
  {
   "cell_type": "markdown",
   "metadata": {},
   "source": [
    "## Assignment 1: Python Syntax\n",
    "Write a program which will find all numbers divisible by 17 but not a divisible of 5, between 1337 and 2412 inclusively. For example 1343 is divisible by 17 and not by 5 so it should be added. 2040 is divisible by 17 and by five so it should not be added.\n",
    "### Question 1:\n",
    "How many numbers fit the specifications?\n",
    "### Question 2:\n",
    "What is the sum of the numbers?\n",
    "\n",
    "You can complete this assignment without any third party library. Consider using:\n",
    "- a list\n",
    "- the range function\n",
    "- the remainder operator\n",
    "- an if statement\n",
    "- the list append function"
   ]
  },
  {
   "cell_type": "code",
   "execution_count": null,
   "metadata": {},
   "outputs": [],
   "source": [
    "# Define function"
   ]
  },
  {
   "cell_type": "code",
   "execution_count": null,
   "metadata": {},
   "outputs": [],
   "source": [
    "# Print out number of found answers"
   ]
  },
  {
   "cell_type": "code",
   "execution_count": null,
   "metadata": {},
   "outputs": [],
   "source": [
    "# Print out sum of found numbers"
   ]
  },
  {
   "cell_type": "markdown",
   "metadata": {},
   "source": [
    "## Assignment 2: Numpy and Vectors\n",
    "\n",
    "Import numpy. Create two vectors containing the numbers 0 to 23 inclusively in order. 0,1,2,3,4... etc.\n",
    "\n",
    "### Question 3:\n",
    "\n",
    "What is the inner product (dot product) of the two vectors?\n",
    "\n",
    "### Question 4:\n",
    "Now multiply the two vectors _element wise_. What is the seventh element of the new vector?\n",
    "\n",
    "Consider using:\n",
    "- numpy's arrange function\n",
    "- numpy's dot function\n",
    "- numpy's multiply \n",
    "\n",
    "Remember, indexes start counting at zero."
   ]
  },
  {
   "cell_type": "code",
   "execution_count": null,
   "metadata": {},
   "outputs": [],
   "source": [
    "# import numpy"
   ]
  },
  {
   "cell_type": "code",
   "execution_count": null,
   "metadata": {},
   "outputs": [],
   "source": [
    "# create vectors"
   ]
  },
  {
   "cell_type": "code",
   "execution_count": null,
   "metadata": {},
   "outputs": [],
   "source": [
    "# Calculate and print dot product"
   ]
  },
  {
   "cell_type": "code",
   "execution_count": null,
   "metadata": {},
   "outputs": [],
   "source": [
    "# Calculate element wise multiplication\n",
    "# Print the 7th element"
   ]
  }
 ],
 "metadata": {
  "anaconda-cloud": {},
  "kernelspec": {
   "display_name": "Python [default]",
   "language": "python",
   "name": "python3"
  },
  "language_info": {
   "codemirror_mode": {
    "name": "ipython",
    "version": 3
   },
   "file_extension": ".py",
   "mimetype": "text/x-python",
   "name": "python",
   "nbconvert_exporter": "python",
   "pygments_lexer": "ipython3",
   "version": "3.5.4"
  }
 },
 "nbformat": 4,
 "nbformat_minor": 2
}
